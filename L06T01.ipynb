{
 "cells": [
  {
   "cell_type": "code",
   "execution_count": null,
   "metadata": {},
   "outputs": [],
   "source": [
    "#k-means -algoritmin alkuosa\n",
    "#tulos tulee palauttaa muuttujassa \"result\"\n",
    "#viisi ekaa riviä ja neljä saraketta, sortattuna HAVAINNON id-sarakkeen (3) mukaan"
   ]
  },
  {
   "cell_type": "code",
   "execution_count": 1,
   "metadata": {},
   "outputs": [],
   "source": [
    "import numpy as np"
   ]
  },
  {
   "cell_type": "code",
   "execution_count": 17,
   "metadata": {},
   "outputs": [],
   "source": [
    "#havaintoarvot urlista\n",
    "url1 = \"https://student.labranet.jamk.fi/~huoptu/.alko/.kmeans/data_A.csv\"\n",
    "\n",
    "#klusterikeskukset on valmiiksi arvattu urlissa\n",
    "url2 = \"https://student.labranet.jamk.fi/~huoptu/.alko/.kmeans/init_cl_A.csv\"\n",
    "\n",
    "#klusterien lukumäärä\n",
    "nkl = 5\n",
    "\n",
    "xy = np.loadtxt(fname=url1, delimiter=';') # Havainnot\n",
    "rxy = np.loadtxt(fname=url2, delimiter=';') # Klusterikeskukset\n",
    "\n",
    "zeros = np.zeros((len(xy),5)) #tehdään tuloksia varten vielä 0-array\n",
    "res = np.concatenate((xy,zeros),axis=1) #ja yhdistetään se datataulukon kanssa"
   ]
  },
  {
   "cell_type": "code",
   "execution_count": 28,
   "metadata": {},
   "outputs": [],
   "source": [
    "for j in range(nkl):\n",
    "        res[:,(4+j)]=(xy[:,0]-rxy[j,0])**2+(xy[:,1]-rxy[j,1])**2\n",
    "        dij = res[:,4:(4+nkl)]\n",
    "\n",
    "smi = np.argmin(a=dij, axis=1)\n",
    "\n",
    "for j in range(nkl):\n",
    "    res[j==smi,3] = rxy[j,2]"
   ]
  },
  {
   "cell_type": "code",
   "execution_count": 30,
   "metadata": {},
   "outputs": [
    {
     "name": "stdout",
     "output_type": "stream",
     "text": [
      "[[14.86 29.09  0.    1.  ]\n",
      " [13.39 26.77  1.    5.  ]\n",
      " [13.6  27.06  2.    5.  ]\n",
      " [15.25 28.05  3.    1.  ]\n",
      " [13.92 26.57  4.    4.  ]]\n"
     ]
    }
   ],
   "source": [
    "result = res[0:5,0:4] #siistitään lopuksi tehtävänannossa haluttuun muotoon\n",
    "print(result)"
   ]
  },
  {
   "cell_type": "code",
   "execution_count": null,
   "metadata": {},
   "outputs": [],
   "source": []
  }
 ],
 "metadata": {
  "kernelspec": {
   "display_name": "Python 3 (ipykernel)",
   "language": "python",
   "name": "python3"
  },
  "language_info": {
   "codemirror_mode": {
    "name": "ipython",
    "version": 3
   },
   "file_extension": ".py",
   "mimetype": "text/x-python",
   "name": "python",
   "nbconvert_exporter": "python",
   "pygments_lexer": "ipython3",
   "version": "3.8.12"
  }
 },
 "nbformat": 4,
 "nbformat_minor": 4
}
