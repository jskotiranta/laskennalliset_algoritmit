{
 "cells": [
  {
   "cell_type": "code",
   "execution_count": 1,
   "metadata": {},
   "outputs": [],
   "source": [
    "#annetun datan pisteiden yhdistely Ahnetta Algoritmia varten\n",
    "import numpy as np\n",
    "\n",
    "def connect(url,kl):\n",
    "    \n",
    "    xy = np.loadtxt(fname=url, delimiter=';', usecols=(0,1,2,3))\n",
    "    \n",
    "    #määritetään alue, josta minimiarvo löytyy.\n",
    "    intervals = 100 #laskentaruutujen lukumäärä akselin suunnassa\n",
    "    x = np.linspace(0, np.max(xy[:,0]), num=intervals)\n",
    "    y = np.linspace(0, np.max(xy[:,1]), num=intervals)\n",
    "    X, Y = np.meshgrid(x, y)\n",
    "\n",
    "    N = xy.shape[0]\n",
    "    xlkm = X.shape[0]\n",
    "    ylkm = Y.shape[1]\n",
    "    f = np.zeros((xlkm,ylkm,N))\n",
    "\n",
    "    for i in range(N):\n",
    "        f[:,:,i] = 2*(X-xy[i,0])**2 + X*Y + (Y-xy[i,1])**2\n",
    "\n",
    "    sortedindex = np.argsort(f, axis=2)\n",
    "    asorted = np.sort(f, axis=2)\n",
    "    Fsum = np.sum(asorted[:,:,0:int(N/kl)],axis=2)\n",
    "    ind = np.unravel_index(np.argmin(Fsum, axis=None), Fsum.shape)\n",
    "    \n",
    "    minind = sortedindex[ind[0],ind[1],:]\n",
    "    minind = minind[0:int(N/kl)] #otetaan mukaan vain klusteriin kuuluvat indeksit\n",
    "    \n",
    "    result = xy[minind,:]\n",
    "    argsmin = np.argsort(result[:,2])\n",
    "    result = result[argsmin,:]\n",
    "    \n",
    "    return result"
   ]
  },
  {
   "cell_type": "code",
   "execution_count": 2,
   "metadata": {},
   "outputs": [
    {
     "name": "stdout",
     "output_type": "stream",
     "text": [
      "[[12.43 22.87 10.    0.  ]\n",
      " [12.46 26.41 14.    0.  ]\n",
      " [12.35 23.65 15.    0.  ]\n",
      " [10.26 22.65 20.    0.  ]\n",
      " [12.52 24.39 22.    0.  ]\n",
      " [11.32 20.59 27.    0.  ]\n",
      " [10.95 20.6  32.    0.  ]\n",
      " [13.04 21.18 35.    0.  ]\n",
      " [11.39 24.58 43.    0.  ]\n",
      " [10.62 20.89 51.    0.  ]]\n"
     ]
    }
   ],
   "source": [
    "url = \"https://student.labranet.jamk.fi/~huoptu/.alko/.kmeans/data_A.csv\"\n",
    "klusteroitu = connect(url,5)\n",
    "print(klusteroitu)"
   ]
  },
  {
   "cell_type": "code",
   "execution_count": null,
   "metadata": {},
   "outputs": [],
   "source": []
  }
 ],
 "metadata": {
  "kernelspec": {
   "display_name": "Python 3 (ipykernel)",
   "language": "python",
   "name": "python3"
  },
  "language_info": {
   "codemirror_mode": {
    "name": "ipython",
    "version": 3
   },
   "file_extension": ".py",
   "mimetype": "text/x-python",
   "name": "python",
   "nbconvert_exporter": "python",
   "pygments_lexer": "ipython3",
   "version": "3.8.12"
  }
 },
 "nbformat": 4,
 "nbformat_minor": 4
}
