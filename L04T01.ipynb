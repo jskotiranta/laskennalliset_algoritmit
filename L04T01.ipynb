{
 "cells": [
  {
   "cell_type": "code",
   "execution_count": 1,
   "metadata": {},
   "outputs": [],
   "source": [
    "#Tehtävä L04T01\n",
    "#Etsii annetun 1D-listan alkioiden kaikki kombinaatiot ja\n",
    "#kokoaa ne järjestetyksi 2D-listaksi"
   ]
  },
  {
   "cell_type": "code",
   "execution_count": 4,
   "metadata": {},
   "outputs": [],
   "source": [
    "def sort2D(a):\n",
    "    \n",
    "    # poistetaan listasta tyhjät alkiot\n",
    "    af = []\n",
    "    for i in range(0,len(a)):\n",
    "        if (a[i] != []):\n",
    "            af.append(a[i])\n",
    "    a = af\n",
    "    n = len(a)\n",
    "    \n",
    "    # järjestetään loppujen listojen alkiot suuruusjärjestykseen\n",
    "    for k in range(n):\n",
    "        nk = len(a[k])\n",
    "        for i in range(nk):\n",
    "            minind = i\n",
    "            for j in range (i+1, nk):\n",
    "                if (a[k][minind] > a[k][j]):\n",
    "                    minind = j\n",
    "            a[k][i], a[k][minind] = a[k][minind], a[k][i]\n",
    "    \n",
    "    # järjestetään alkiolistat pituusjärjestykseen\n",
    "    for i in range(n):\n",
    "        minind = i\n",
    "        for j in range (i+1, n):\n",
    "            if (len(a[minind]) > len(a[j])):\n",
    "                minind = j\n",
    "        a[i], a[minind] = a[minind], a[i]\n",
    "\n",
    "    # ja lopuksi keskenään samanpituiset listat alkioiden summan mukaiseen järjestykseen\n",
    "    for i in range(n):\n",
    "        minind = i\n",
    "        vlen = len(a[i])\n",
    "        for j in range (i+1, n):\n",
    "            newlen = len(a[j])\n",
    "            if (sum(a[minind]) > sum(a[j])) & (vlen == newlen):\n",
    "                minind = j\n",
    "        a[i], a[minind] = a[minind], a[i]\n",
    "    \n",
    "    return a\n",
    "\n",
    "# tehdään lista, jossa ovat kaikki listan a alkoiden kombinaatiot\n",
    "def combs(a):\n",
    "    if len(a) == 0:\n",
    "        return [[]]\n",
    "    cs = []\n",
    "    for c in combs(a[1:]):\n",
    "        cs += [c, c+[a[0]]]\n",
    "    return cs\n",
    "\n",
    "# järjestetään kombinaatiot \n",
    "def makecomb(a):\n",
    "    b = combs(a)\n",
    "    c = sort2D(b)\n",
    "    return c"
   ]
  },
  {
   "cell_type": "code",
   "execution_count": 5,
   "metadata": {},
   "outputs": [
    {
     "name": "stdout",
     "output_type": "stream",
     "text": [
      "[[1], [2], [3], [4], [5], [1, 2], [1, 3], [2, 3], [1, 4], [2, 4], [1, 5], [3, 4], [2, 5], [3, 5], [4, 5], [1, 2, 3], [1, 2, 4], [1, 2, 5], [1, 3, 4], [1, 3, 5], [2, 3, 4], [1, 4, 5], [2, 3, 5], [2, 4, 5], [3, 4, 5], [1, 2, 3, 4], [1, 2, 3, 5], [1, 2, 4, 5], [1, 3, 4, 5], [2, 3, 4, 5], [1, 2, 3, 4, 5]]\n"
     ]
    }
   ],
   "source": [
    "#pääohjelma\n",
    "lista = [2,5,4,3,1]\n",
    "\n",
    "print(makecomb(lista))\n"
   ]
  },
  {
   "cell_type": "code",
   "execution_count": null,
   "metadata": {},
   "outputs": [],
   "source": []
  }
 ],
 "metadata": {
  "kernelspec": {
   "display_name": "Python 3 (ipykernel)",
   "language": "python",
   "name": "python3"
  },
  "language_info": {
   "codemirror_mode": {
    "name": "ipython",
    "version": 3
   },
   "file_extension": ".py",
   "mimetype": "text/x-python",
   "name": "python",
   "nbconvert_exporter": "python",
   "pygments_lexer": "ipython3",
   "version": "3.8.12"
  }
 },
 "nbformat": 4,
 "nbformat_minor": 4
}
