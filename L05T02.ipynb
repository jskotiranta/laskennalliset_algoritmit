{
 "cells": [
  {
   "cell_type": "code",
   "execution_count": 31,
   "metadata": {},
   "outputs": [],
   "source": [
    "#tehdään funktio, joka lukee urlista datan ja laskee\n",
    "#annetun summafunktion minimin"
   ]
  },
  {
   "cell_type": "code",
   "execution_count": 32,
   "metadata": {},
   "outputs": [],
   "source": [
    "import numpy as np"
   ]
  },
  {
   "cell_type": "code",
   "execution_count": 33,
   "metadata": {},
   "outputs": [],
   "source": [
    "def findmin(url):\n",
    "    \n",
    "    #luetaan urlista havaintojen x ja y\n",
    "    xy = np.loadtxt(fname=url, delimiter=';', usecols=(0,1))\n",
    "    n = len(xy)\n",
    "    range_x_max = np.amax(xy[:,0])\n",
    "    range_y_max = np.amax(xy[:,1])\n",
    "    \n",
    "    #tehdään laskentahila\n",
    "    delta_x = range_x_max/250\n",
    "    delta_y = range_y_max/250\n",
    "    x_grid = np.arange(0, range_x_max, delta_x)\n",
    "    y_grid = np.arange(0, range_y_max, delta_y)\n",
    "    X, Y = np.meshgrid(x_grid, y_grid)\n",
    "    \n",
    "    xlkm = X.shape[0]\n",
    "    ylkm = Y.shape[1]\n",
    "    f = np.zeros((xlkm,ylkm)) #zeros ottaa tässä argumentikseen tuplen\n",
    "    sum_f = np.zeros((xlkm,ylkm))\n",
    "    \n",
    "    #minimoitava funktio.\n",
    "    for i in range(n):\n",
    "        f[:,:] = 2*(X - xy[i,0])**2 + X*Y + (Y - xy[i,1])**2\n",
    "        sum_f = sum_f + f\n",
    "    \n",
    "    ind = np.unravel_index(np.argmin(sum_f,axis=None),f.shape)\n",
    "    result = [round(X[ind],1),round(Y[ind],1)]\n",
    "\n",
    "    return result"
   ]
  },
  {
   "cell_type": "code",
   "execution_count": 34,
   "metadata": {},
   "outputs": [
    {
     "name": "stdout",
     "output_type": "stream",
     "text": [
      "[10.2, 19.9]\n"
     ]
    }
   ],
   "source": [
    "f_min = findmin(\"https://student.labranet.jamk.fi/~huoptu/.alko/.kmeans/data_A.csv\")\n",
    "print(f_min)"
   ]
  },
  {
   "cell_type": "code",
   "execution_count": null,
   "metadata": {},
   "outputs": [],
   "source": []
  }
 ],
 "metadata": {
  "kernelspec": {
   "display_name": "Python 3 (ipykernel)",
   "language": "python",
   "name": "python3"
  },
  "language_info": {
   "codemirror_mode": {
    "name": "ipython",
    "version": 3
   },
   "file_extension": ".py",
   "mimetype": "text/x-python",
   "name": "python",
   "nbconvert_exporter": "python",
   "pygments_lexer": "ipython3",
   "version": "3.8.12"
  }
 },
 "nbformat": 4,
 "nbformat_minor": 4
}
