{
 "cells": [
  {
   "cell_type": "code",
   "execution_count": 1,
   "metadata": {},
   "outputs": [],
   "source": [
    "#k-means -algoritmi jatkuu...\n",
    "#Jokaiseen havaintoon on yhdistetty tavoitefunktion perusteella klusterikeskus, \n",
    "#joille lasketaan uudet klusterikeskukset. Lopuksi funktio palauttaa \"result\" muuttujassa \n",
    "#klusterikeskustaulukon \"rxy\", jonne on puolestaan laskettu uudet klusterikeskukset\n",
    "\n",
    "import numpy as np\n",
    "\n",
    "def centers(url1, url2):\n",
    "    \n",
    "    xy = np.loadtxt(fname=url1, delimiter=';')\n",
    "    rxy = np.loadtxt(fname=url2, delimiter=';')\n",
    "    \n",
    "    #vaihe 3\n",
    "    nkl = rxy.shape[0]\n",
    "    nollat = np.zeros((xy.shape[0],nkl))\n",
    "    xy = np.append(arr=xy, values=nollat, axis=1)\n",
    "    \n",
    "    for i in range(nkl):\n",
    "        xy[:,(4+i)] = (xy[:,0] - rxy[i,0])**2 + (xy[:,1] - rxy[i,1])**2\n",
    "\n",
    "    dij = xy[:,4:(4+nkl)]\n",
    "    xy[:,3] = np.argmin(a=dij, axis=1) + 1\n",
    "    \n",
    "    #vaihe 4\n",
    "    for i in range(nkl):\n",
    "        dj = xy[xy[:,3] == rxy[i,2],:]\n",
    "        rxy[i,0] = np.mean(dj[:,0]) # uusi x\n",
    "        rxy[i,1] = np.mean(dj[:,1]) # uusi y\n",
    "    \n",
    "    rxy[:,0:2] = np.round(rxy[:,0:2], decimals=1)\n",
    "    result = rxy\n",
    "    \n",
    "    return result"
   ]
  },
  {
   "cell_type": "code",
   "execution_count": 3,
   "metadata": {},
   "outputs": [
    {
     "name": "stdout",
     "output_type": "stream",
     "text": [
      "[[15.5 27.9  1. ]\n",
      " [18.5 26.1  2. ]\n",
      " [16.5 22.   3. ]\n",
      " [13.8 27.6  4. ]\n",
      " [12.1 24.3  5. ]]\n"
     ]
    }
   ],
   "source": [
    "#havaintoarvot urlista\n",
    "url1 = \"https://student.labranet.jamk.fi/~huoptu/.alko/.kmeans/data_A.csv\"\n",
    "\n",
    "#klusterikeskukset on valmiiksi arvattu urlissa\n",
    "url2 = \"https://student.labranet.jamk.fi/~huoptu/.alko/.kmeans/init_cl_A.csv\"\n",
    "\n",
    "print(centers(url1, url2))"
   ]
  },
  {
   "cell_type": "code",
   "execution_count": null,
   "metadata": {},
   "outputs": [],
   "source": []
  }
 ],
 "metadata": {
  "kernelspec": {
   "display_name": "Python 3 (ipykernel)",
   "language": "python",
   "name": "python3"
  },
  "language_info": {
   "codemirror_mode": {
    "name": "ipython",
    "version": 3
   },
   "file_extension": ".py",
   "mimetype": "text/x-python",
   "name": "python",
   "nbconvert_exporter": "python",
   "pygments_lexer": "ipython3",
   "version": "3.8.12"
  }
 },
 "nbformat": 4,
 "nbformat_minor": 4
}
